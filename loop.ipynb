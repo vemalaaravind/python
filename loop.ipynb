{
 "cells": [
  {
   "cell_type": "code",
   "execution_count": 1,
   "id": "478f533c",
   "metadata": {},
   "outputs": [
    {
     "name": "stdout",
     "output_type": "stream",
     "text": [
      "1# \n",
      "2# \n",
      "3# \n",
      "4# \n",
      "5# \n",
      "6# \n",
      "7# \n",
      "8# \n",
      "9# \n",
      "10# \n"
     ]
    }
   ],
   "source": [
    "i = 0\n",
    "while i < 10:\n",
    "    i = i+1\n",
    "    print(i, end='# ')\n",
    "    print()"
   ]
  },
  {
   "cell_type": "code",
   "execution_count": 2,
   "id": "b751e5a0",
   "metadata": {},
   "outputs": [
    {
     "name": "stdout",
     "output_type": "stream",
     "text": [
      "The condition is true\n",
      "The condition is true\n",
      "The condition is true\n",
      "The condition is true\n",
      "The condition is true\n",
      "The condition is true\n",
      "End of loop\n"
     ]
    }
   ],
   "source": [
    "count = 0\n",
    "while count <= 5:\n",
    "    print(\"The condition is true\")\n",
    "    count = count + 1\n",
    "print(\"End of loop\")"
   ]
  },
  {
   "cell_type": "code",
   "execution_count": 3,
   "id": "042c3b67",
   "metadata": {},
   "outputs": [
    {
     "name": "stdout",
     "output_type": "stream",
     "text": [
      "please type your name\n",
      "aravind\n",
      "please type your name\n",
      "gilly\n",
      "please type your name\n",
      "Gilly\n",
      "Thank you, you typrd the correct name.\n"
     ]
    }
   ],
   "source": [
    "while True:\n",
    "    print(\"please type your name\")\n",
    "    name = input()\n",
    "    if name == 'Gilly':\n",
    "        break\n",
    "print('Thank you, you typrd the correct name.')"
   ]
  },
  {
   "cell_type": "code",
   "execution_count": 5,
   "id": "419db9d4",
   "metadata": {},
   "outputs": [
    {
     "name": "stdout",
     "output_type": "stream",
     "text": [
      "28 is divisible by both 4 and 7\n"
     ]
    }
   ],
   "source": [
    "#LCM of 4 and 7\n",
    "x = 0\n",
    "while True:\n",
    "    x += 1\n",
    "    if not(x%4 or x%7):\n",
    "        break\n",
    "print(x, 'is divisible by both 4 and 7')"
   ]
  },
  {
   "cell_type": "code",
   "execution_count": 6,
   "id": "878dc06d",
   "metadata": {},
   "outputs": [
    {
     "name": "stdout",
     "output_type": "stream",
     "text": [
      "1\n",
      "2\n",
      "3\n",
      "4\n",
      "5\n",
      "7\n",
      "8\n",
      "9\n",
      "10\n"
     ]
    }
   ],
   "source": [
    "i = 0\n",
    "while i < 10:\n",
    "    i += 1\n",
    "    if i == 6:\n",
    "        continue\n",
    "    print(i)"
   ]
  },
  {
   "cell_type": "code",
   "execution_count": 7,
   "id": "c302b16d",
   "metadata": {},
   "outputs": [
    {
     "name": "stdout",
     "output_type": "stream",
     "text": [
      "1\n",
      "2\n",
      "3\n",
      "4\n",
      "i is not less than 5\n"
     ]
    }
   ],
   "source": [
    "i = 1\n",
    "while i < 5:\n",
    "    print(i)\n",
    "    i += 1\n",
    "else:\n",
    "    print(\"i is not less than 5\")"
   ]
  },
  {
   "cell_type": "code",
   "execution_count": 9,
   "id": "670dd242",
   "metadata": {},
   "outputs": [
    {
     "name": "stdout",
     "output_type": "stream",
     "text": [
      "5\n",
      "4\n",
      "3\n",
      "2\n",
      "1\n",
      "There are no elements left in the list\n"
     ]
    }
   ],
   "source": [
    "a = [1,2,3,4,5]\n",
    "while a:\n",
    "    print(a.pop())\n",
    "else:\n",
    "    print(\"There are no elements left in the list\")"
   ]
  },
  {
   "cell_type": "code",
   "execution_count": 10,
   "id": "d8413d29",
   "metadata": {},
   "outputs": [
    {
     "name": "stdout",
     "output_type": "stream",
     "text": [
      "Enter any positive number23\n",
      "Enter any positive number233\n",
      "Enter any positive number233\n",
      "Enter any positive number23\n",
      "Enter any positive number23\n",
      "Enter any positive number-9780\n",
      "Total sum of numbers:  535  ,Average: 107.0\n"
     ]
    }
   ],
   "source": [
    "#average of positive numbers\n",
    "num = 0\n",
    "count = 0\n",
    "sum = 0\n",
    "while num >= 0:\n",
    "    num = int(input('Enter any positive number'))\n",
    "    if num >=0:\n",
    "        count = count+1\n",
    "        sum = sum + num\n",
    "avg = sum/count\n",
    "print('Total sum of numbers: ', sum,' ,Average:' , avg)"
   ]
  },
  {
   "cell_type": "code",
   "execution_count": 11,
   "id": "983d28fa",
   "metadata": {
    "scrolled": true
   },
   "outputs": [
    {
     "name": "stdout",
     "output_type": "stream",
     "text": [
      "76\n",
      "Enter an integer between 1 to 100: 87\n",
      "Your guess is high\n",
      "Enter an integer between 1 to 100: 75\n",
      "\n",
      "Your guess is low\n",
      "Enter an integer between 1 to 100: 76\n",
      "\n",
      "Your guess is correctly!\n"
     ]
    }
   ],
   "source": [
    "import random\n",
    "n = random.randint(1,100)\n",
    "print(n)\n",
    "guess = int(input('Enter an integer between 1 to 100: '))\n",
    "while n != \"guess\":\n",
    "    if guess < n:\n",
    "        print(\"Your guess is low\")\n",
    "        guess = int(input('Enter an integer between 1 to 100: '))\n",
    "    elif guess > n:\n",
    "        print(\"Your guess is high\")\n",
    "        guess = int(input('Enter an integer between 1 to 100: '))\n",
    "    else:\n",
    "        print(\"Your guess is correctly!\")\n",
    "        break\n",
    "    print()"
   ]
  },
  {
   "cell_type": "code",
   "execution_count": null,
   "id": "73d15824",
   "metadata": {},
   "outputs": [],
   "source": []
  },
  {
   "cell_type": "code",
   "execution_count": null,
   "id": "3ee71db2",
   "metadata": {},
   "outputs": [],
   "source": []
  }
 ],
 "metadata": {
  "kernelspec": {
   "display_name": "Python 3 (ipykernel)",
   "language": "python",
   "name": "python3"
  },
  "language_info": {
   "codemirror_mode": {
    "name": "ipython",
    "version": 3
   },
   "file_extension": ".py",
   "mimetype": "text/x-python",
   "name": "python",
   "nbconvert_exporter": "python",
   "pygments_lexer": "ipython3",
   "version": "3.11.4"
  }
 },
 "nbformat": 4,
 "nbformat_minor": 5
}
