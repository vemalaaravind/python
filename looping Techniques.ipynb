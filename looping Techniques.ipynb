{
 "cells": [
  {
   "cell_type": "code",
   "execution_count": 1,
   "id": "837e92e1",
   "metadata": {},
   "outputs": [
    {
     "name": "stdout",
     "output_type": "stream",
     "text": [
      "2\n",
      "4\n",
      "5\n",
      "10\n",
      "49\n",
      "50\n"
     ]
    }
   ],
   "source": [
    "num = [2, 5, 10, 4, 50, 49]\n",
    "for i in sorted(num):\n",
    "    print(i)"
   ]
  },
  {
   "cell_type": "code",
   "execution_count": 2,
   "id": "9e7548ec",
   "metadata": {},
   "outputs": [
    {
     "name": "stdout",
     "output_type": "stream",
     "text": [
      "50\n",
      "49\n",
      "10\n",
      "5\n",
      "4\n",
      "2\n"
     ]
    }
   ],
   "source": [
    "num = [2, 5, 10, 4, 50, 49]\n",
    "for i in sorted(num, reverse = True):\n",
    "    print(i)"
   ]
  },
  {
   "cell_type": "code",
   "execution_count": 3,
   "id": "0c215a57",
   "metadata": {},
   "outputs": [
    {
     "name": "stdout",
     "output_type": "stream",
     "text": [
      "Salah\n",
      "Ronaldo\n",
      "Messi\n",
      "Harry\n"
     ]
    }
   ],
   "source": [
    "players = ['Messi', 'Ronaldo', 'Salah', 'Harry']\n",
    "for i in sorted(players, reverse = True):\n",
    "    print(i)"
   ]
  },
  {
   "cell_type": "code",
   "execution_count": 6,
   "id": "9b9eb2ce",
   "metadata": {},
   "outputs": [
    {
     "name": "stdout",
     "output_type": "stream",
     "text": [
      "('a', 3)\n",
      "('b', 4)\n",
      "('c', 2)\n",
      "('f', 1)\n"
     ]
    }
   ],
   "source": [
    "d = {'f':1, 'b':4, 'a':3, 'c':2}\n",
    "for i in sorted(d.items()):\n",
    "    print(i)"
   ]
  },
  {
   "cell_type": "code",
   "execution_count": 8,
   "id": "c9b3991b",
   "metadata": {},
   "outputs": [
    {
     "name": "stdout",
     "output_type": "stream",
     "text": [
      "a\n",
      "b\n",
      "c\n",
      "f\n"
     ]
    }
   ],
   "source": [
    "d = {'f':1, 'b':4, 'a':3, 'c':2}\n",
    "for i in sorted(d.keys()):\n",
    "    print(i)"
   ]
  },
  {
   "cell_type": "code",
   "execution_count": 9,
   "id": "c0ddbdcb",
   "metadata": {},
   "outputs": [
    {
     "name": "stdout",
     "output_type": "stream",
     "text": [
      "1\n",
      "2\n",
      "3\n",
      "4\n"
     ]
    }
   ],
   "source": [
    "d = {'f':1, 'b':4, 'a':3, 'c':2}\n",
    "for i in sorted(d.values()):\n",
    "    print(i)"
   ]
  },
  {
   "cell_type": "code",
   "execution_count": 10,
   "id": "1f9eea3a",
   "metadata": {},
   "outputs": [
    {
     "name": "stdout",
     "output_type": "stream",
     "text": [
      "iyer\n",
      "dhoni\n",
      "rohith\n",
      "virat\n",
      "kohli\n"
     ]
    }
   ],
   "source": [
    "players = ['kohli', 'virat', 'rohith', 'dhoni', 'iyer']\n",
    "for i in reversed(players):\n",
    "    print(i)"
   ]
  },
  {
   "cell_type": "code",
   "execution_count": 12,
   "id": "dc35578b",
   "metadata": {},
   "outputs": [
    {
     "name": "stdout",
     "output_type": "stream",
     "text": [
      "{'name': 'lion', 'age': 24}\n"
     ]
    }
   ],
   "source": [
    "animals = [{'name':'human being','age': 23},{'name': 'lion', 'age': 24},{'name':'elephant', 'age':45}]\n",
    "for animals in filter(lambda i: i['age']%2 == 0, animals):\n",
    "    print(animals)"
   ]
  },
  {
   "cell_type": "code",
   "execution_count": 14,
   "id": "e2dd4a18",
   "metadata": {},
   "outputs": [
    {
     "name": "stdout",
     "output_type": "stream",
     "text": [
      "Israel\n",
      "Japan\n",
      "Brazil\n",
      "canda\n",
      "india\n"
     ]
    }
   ],
   "source": [
    "country = ['india', 'canda', 'Brazil', 'Japan', 'Israel']\n",
    "while country:\n",
    "    print(country.pop(-1))"
   ]
  },
  {
   "cell_type": "code",
   "execution_count": 15,
   "id": "55838b86",
   "metadata": {},
   "outputs": [
    {
     "name": "stdout",
     "output_type": "stream",
     "text": [
      "9\n",
      "8\n",
      "7\n",
      "6\n",
      "5\n",
      "4\n",
      "3\n",
      "2\n",
      "1\n",
      "0\n"
     ]
    }
   ],
   "source": [
    "num = 10\n",
    "while num>0:\n",
    "    num -=1;\n",
    "    print(num)"
   ]
  },
  {
   "cell_type": "code",
   "execution_count": null,
   "id": "82f664bf",
   "metadata": {},
   "outputs": [
    {
     "name": "stdout",
     "output_type": "stream",
     "text": [
      "Enter an integer: 78\n",
      "The product of 78 multiplied by 5 is 390\n",
      "Enter an integer: 99959\n",
      "The product of 99959 multiplied by 5 is 499795\n",
      "Enter an integer: 90595050505\n",
      "The product of 90595050505 multiplied by 5 is 452975252525\n"
     ]
    }
   ],
   "source": [
    "while True:\n",
    "    num = int(input(\"Enter an integer: \"))\n",
    "    print(\"The product of\", num, \"multiplied by 5 is\", 5 * num)"
   ]
  },
  {
   "cell_type": "code",
   "execution_count": null,
   "id": "c6292cd8",
   "metadata": {},
   "outputs": [],
   "source": [
    "for i in enumerate([\"The\", \"virat\", \"is\", \"a\", \"good\", \"batsman\", \"in\", \"the\", \"world\", \".\" ]):\n",
    "    print(i)"
   ]
  },
  {
   "cell_type": "code",
   "execution_count": null,
   "id": "b109324c",
   "metadata": {},
   "outputs": [],
   "source": [
    "for i in enumerate([\"The\", \"virat\", \"is\", \"a\", \"good\", \"batsman\", \"in\", \"the\", \"world\", \".\" ]):\n",
    "    print(key,value)"
   ]
  },
  {
   "cell_type": "code",
   "execution_count": null,
   "id": "a86a9752",
   "metadata": {},
   "outputs": [],
   "source": [
    " "
   ]
  }
 ],
 "metadata": {
  "kernelspec": {
   "display_name": "Python 3 (ipykernel)",
   "language": "python",
   "name": "python3"
  },
  "language_info": {
   "codemirror_mode": {
    "name": "ipython",
    "version": 3
   },
   "file_extension": ".py",
   "mimetype": "text/x-python",
   "name": "python",
   "nbconvert_exporter": "python",
   "pygments_lexer": "ipython3",
   "version": "3.11.4"
  }
 },
 "nbformat": 4,
 "nbformat_minor": 5
}
