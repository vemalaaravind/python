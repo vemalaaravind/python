{
 "cells": [
  {
   "cell_type": "code",
   "execution_count": 1,
   "id": "b5849a0b",
   "metadata": {},
   "outputs": [
    {
     "name": "stdout",
     "output_type": "stream",
     "text": [
      "(0, 'The')\n",
      "(1, 'virat')\n",
      "(2, 'is')\n",
      "(3, 'a')\n",
      "(4, 'worlds')\n",
      "(5, 'greatest')\n",
      "(6, 'bats man')\n",
      "(7, '.')\n"
     ]
    }
   ],
   "source": [
    "for i in enumerate(['The', 'virat', 'is', 'a', 'worlds', 'greatest', 'bats man', '.']):\n",
    "    print(i)"
   ]
  },
  {
   "cell_type": "code",
   "execution_count": 3,
   "id": "80a2d021",
   "metadata": {},
   "outputs": [
    {
     "name": "stdout",
     "output_type": "stream",
     "text": [
      "0 The\n",
      "1 virat\n",
      "2 is\n",
      "3 a\n",
      "4 worlds\n",
      "5 greatest\n",
      "6 bats man\n",
      "7 .\n"
     ]
    }
   ],
   "source": [
    "for key, value in enumerate(['The', 'virat', 'is', 'a', 'worlds', 'greatest', 'bats man', '.']):\n",
    "    print(key,value)"
   ]
  },
  {
   "cell_type": "code",
   "execution_count": 4,
   "id": "e616eca6",
   "metadata": {},
   "outputs": [
    {
     "name": "stdout",
     "output_type": "stream",
     "text": [
      "The virat is a worlds greatest bats man . "
     ]
    }
   ],
   "source": [
    "for key, value in enumerate(['The', 'virat', 'is', 'a', 'worlds', 'greatest', 'bats man', '.']):\n",
    "    print(value, end=' ')"
   ]
  },
  {
   "cell_type": "code",
   "execution_count": 5,
   "id": "996a8b45",
   "metadata": {},
   "outputs": [
    {
     "name": "stdout",
     "output_type": "stream",
     "text": [
      "0 S\n",
      "1 i\n",
      "2 m\n",
      "3 p\n",
      "4 l\n",
      "5 i\n",
      "6 l\n",
      "7 e\n",
      "8 a\n",
      "9 r\n",
      "10 n\n"
     ]
    }
   ],
   "source": [
    "company = 'Simplilearn'\n",
    "for i,j in enumerate(company):\n",
    "    print(i, j)"
   ]
  },
  {
   "cell_type": "code",
   "execution_count": 6,
   "id": "67156a73",
   "metadata": {},
   "outputs": [
    {
     "name": "stdout",
     "output_type": "stream",
     "text": [
      "(10, 'S')\n",
      "(11, 'i')\n",
      "(12, 'm')\n",
      "(13, 'p')\n",
      "(14, 'l')\n",
      "(15, 'i')\n",
      "(16, 'l')\n",
      "(17, 'e')\n",
      "(18, 'a')\n",
      "(19, 'r')\n",
      "(20, 'n')\n"
     ]
    }
   ],
   "source": [
    "company = 'Simplilearn'\n",
    "for i in enumerate(company, start=10):\n",
    "    print(i)"
   ]
  },
  {
   "cell_type": "code",
   "execution_count": 7,
   "id": "f2492b68",
   "metadata": {},
   "outputs": [
    {
     "name": "stdout",
     "output_type": "stream",
     "text": [
      "('lionel', 'Messi')\n",
      "('cristiano', 'Ronaldo')\n",
      "('Mohamed', 'Salah')\n"
     ]
    }
   ],
   "source": [
    "#Zip function\n",
    "first = ['lionel', 'cristiano', 'Mohamed']\n",
    "last = ['Messi', 'Ronaldo', 'Salah']\n",
    "for i in zip(first, last):\n",
    "    print(i)"
   ]
  },
  {
   "cell_type": "code",
   "execution_count": 9,
   "id": "6a41947b",
   "metadata": {},
   "outputs": [
    {
     "name": "stdout",
     "output_type": "stream",
     "text": [
      "('lionel', 'Messi', 1)\n",
      "('cristiano', 'Ronaldo', 2)\n",
      "('Mohamed', 'Salah', 3)\n"
     ]
    }
   ],
   "source": [
    "first = ['lionel', 'cristiano', 'Mohamed']\n",
    "last = ['Messi', 'Ronaldo', 'Salah']\n",
    "num = [1,2,3,4,5,67,8,7]\n",
    "for i in zip(first, last, num):\n",
    "    print(i)"
   ]
  },
  {
   "cell_type": "code",
   "execution_count": 10,
   "id": "c08cb46d",
   "metadata": {},
   "outputs": [
    {
     "name": "stdout",
     "output_type": "stream",
     "text": [
      "('saha', 'naidu')\n",
      "('wizard', 'rajput')\n",
      "('reddy', 'velma')\n",
      "('chowdary', None)\n"
     ]
    }
   ],
   "source": [
    "from itertools import zip_longest\n",
    "first = ['saha', 'wizard', 'reddy', 'chowdary']\n",
    "last = ['naidu', 'rajput', 'velma']\n",
    "for i in zip_longest(first, last):\n",
    "    print(i)"
   ]
  },
  {
   "cell_type": "code",
   "execution_count": 11,
   "id": "f2abbd02",
   "metadata": {
    "scrolled": true
   },
   "outputs": [
    {
     "name": "stdout",
     "output_type": "stream",
     "text": [
      "('saha', 'naidu')\n",
      "('wizard', 'rajput')\n",
      "('reddy', 'velma')\n",
      "('chowdary', 'Not defined')\n"
     ]
    }
   ],
   "source": [
    "from itertools import zip_longest\n",
    "first = ['saha', 'wizard', 'reddy', 'chowdary']\n",
    "last = ['naidu', 'rajput', 'velma']\n",
    "for i in zip_longest(first, last, fillvalue = 'Not defined'):\n",
    "    print(i)"
   ]
  },
  {
   "cell_type": "code",
   "execution_count": 12,
   "id": "be4dee44",
   "metadata": {},
   "outputs": [
    {
     "name": "stdout",
     "output_type": "stream",
     "text": [
      "3.4\n"
     ]
    }
   ],
   "source": [
    "#built in function\n",
    "a = abs(3.4)\n",
    "print(a)"
   ]
  },
  {
   "cell_type": "code",
   "execution_count": 13,
   "id": "d12e3893",
   "metadata": {},
   "outputs": [
    {
     "name": "stdout",
     "output_type": "stream",
     "text": [
      "9.87\n"
     ]
    }
   ],
   "source": [
    "d =abs(-9.87)\n",
    "print(d)"
   ]
  },
  {
   "cell_type": "code",
   "execution_count": 14,
   "id": "32dfac77",
   "metadata": {},
   "outputs": [
    {
     "name": "stdout",
     "output_type": "stream",
     "text": [
      "5\n"
     ]
    }
   ],
   "source": [
    "# len\n",
    "list1 = ['I', 'N', 'D', 'I', 'A']\n",
    "x = len(list1)\n",
    "print(x)"
   ]
  },
  {
   "cell_type": "code",
   "execution_count": 15,
   "id": "62b79ab6",
   "metadata": {},
   "outputs": [
    {
     "data": {
      "text/plain": [
       "False"
      ]
     },
     "execution_count": 15,
     "metadata": {},
     "output_type": "execute_result"
    }
   ],
   "source": [
    "#all\n",
    "my_list = [0,1,0]\n",
    "x = all(my_list)\n",
    "x"
   ]
  },
  {
   "cell_type": "code",
   "execution_count": 16,
   "id": "e9c0916f",
   "metadata": {},
   "outputs": [
    {
     "data": {
      "text/plain": [
       "14"
      ]
     },
     "execution_count": 16,
     "metadata": {},
     "output_type": "execute_result"
    }
   ],
   "source": [
    "# sum\n",
    "my_list = [2,3,4,5]\n",
    "s = sum(my_list)\n",
    "s"
   ]
  },
  {
   "cell_type": "code",
   "execution_count": 17,
   "id": "e693187f",
   "metadata": {},
   "outputs": [
    {
     "name": "stdout",
     "output_type": "stream",
     "text": [
      "61\n"
     ]
    }
   ],
   "source": [
    "# max and min\n",
    "m1 = max(7, 10, 3, 12, 61, 40)\n",
    "print(m1)"
   ]
  },
  {
   "cell_type": "code",
   "execution_count": 18,
   "id": "d304b14c",
   "metadata": {},
   "outputs": [
    {
     "data": {
      "text/plain": [
       "150"
      ]
     },
     "execution_count": 18,
     "metadata": {},
     "output_type": "execute_result"
    }
   ],
   "source": [
    "m2 = max({7, 90, 3, 150, 67, 44})\n",
    "m2"
   ]
  },
  {
   "cell_type": "code",
   "execution_count": 19,
   "id": "365cdf91",
   "metadata": {},
   "outputs": [
    {
     "data": {
      "text/plain": [
       "3"
      ]
     },
     "execution_count": 19,
     "metadata": {},
     "output_type": "execute_result"
    }
   ],
   "source": [
    "m2 = min({7, 90, 3, 150, 67, 44})\n",
    "m2"
   ]
  },
  {
   "cell_type": "code",
   "execution_count": 20,
   "id": "c345a9d9",
   "metadata": {},
   "outputs": [
    {
     "data": {
      "text/plain": [
       "3"
      ]
     },
     "execution_count": 20,
     "metadata": {},
     "output_type": "execute_result"
    }
   ],
   "source": [
    "m4 = min({7, 90, 3, 150, 67, 44})\n",
    "m4"
   ]
  },
  {
   "cell_type": "code",
   "execution_count": 21,
   "id": "ebdaa856",
   "metadata": {},
   "outputs": [
    {
     "data": {
      "text/plain": [
       "'I'"
      ]
     },
     "execution_count": 21,
     "metadata": {},
     "output_type": "execute_result"
    }
   ],
   "source": [
    "#iter()\n",
    "mylist = iter(['I', 'N'])\n",
    "x = next(mylist)\n",
    "x"
   ]
  },
  {
   "cell_type": "code",
   "execution_count": 22,
   "id": "ca46c844",
   "metadata": {},
   "outputs": [
    {
     "data": {
      "text/plain": [
       "'I'"
      ]
     },
     "execution_count": 22,
     "metadata": {},
     "output_type": "execute_result"
    }
   ],
   "source": [
    "mylist = iter(['I', 'N', 'D', 'I', 'A'])\n",
    "x = next(mylist)\n",
    "x"
   ]
  },
  {
   "cell_type": "code",
   "execution_count": 23,
   "id": "771d128c",
   "metadata": {},
   "outputs": [
    {
     "data": {
      "text/plain": [
       "'N'"
      ]
     },
     "execution_count": 23,
     "metadata": {},
     "output_type": "execute_result"
    }
   ],
   "source": [
    "x = next(mylist)\n",
    "x"
   ]
  },
  {
   "cell_type": "code",
   "execution_count": 24,
   "id": "a30a7a7b",
   "metadata": {},
   "outputs": [
    {
     "name": "stdout",
     "output_type": "stream",
     "text": [
      "27\n",
      "16\n"
     ]
    }
   ],
   "source": [
    "#pow()\n",
    "x1 = pow(3, 3)\n",
    "x2 = pow(2, 4)\n",
    "print(x1)\n",
    "print(x2)"
   ]
  },
  {
   "cell_type": "code",
   "execution_count": 25,
   "id": "358551ed",
   "metadata": {},
   "outputs": [
    {
     "name": "stdout",
     "output_type": "stream",
     "text": [
      "0\n",
      "1\n",
      "2\n",
      "3\n",
      "4\n",
      "5\n"
     ]
    }
   ],
   "source": [
    "x = range(6)\n",
    "for i in x:\n",
    "    print(i)"
   ]
  },
  {
   "cell_type": "code",
   "execution_count": 26,
   "id": "0fa1172e",
   "metadata": {},
   "outputs": [
    {
     "name": "stdout",
     "output_type": "stream",
     "text": [
      "40\n",
      "42\n",
      "44\n",
      "46\n",
      "48\n"
     ]
    }
   ],
   "source": [
    "x = range(40, 50, 2)\n",
    "for n in x:\n",
    "    print(n)"
   ]
  },
  {
   "cell_type": "code",
   "execution_count": 27,
   "id": "871863f0",
   "metadata": {},
   "outputs": [
    {
     "name": "stdout",
     "output_type": "stream",
     "text": [
      "8.62\n"
     ]
    }
   ],
   "source": [
    "# round()\n",
    "x = round(8.624275, 2)\n",
    "print(x)"
   ]
  },
  {
   "cell_type": "code",
   "execution_count": 28,
   "id": "5541a5ca",
   "metadata": {},
   "outputs": [
    {
     "name": "stdout",
     "output_type": "stream",
     "text": [
      "['N', 'I', 'I', 'D', 'A']\n"
     ]
    }
   ],
   "source": [
    "# sorted()\n",
    "a = [\"I\", \"N\",\"D\" ,\"I\", \"A\"]\n",
    "x = sorted(a, reverse = True)\n",
    "print(x)"
   ]
  },
  {
   "cell_type": "code",
   "execution_count": 29,
   "id": "bd12860c",
   "metadata": {},
   "outputs": [
    {
     "name": "stdout",
     "output_type": "stream",
     "text": [
      "[67, 58, 50, 38, 12, 5]\n"
     ]
    }
   ],
   "source": [
    "a = [12, 50, 58, 67, 38, 5]\n",
    "x = sorted(a, reverse = True)\n",
    "print(x)"
   ]
  },
  {
   "cell_type": "code",
   "execution_count": 31,
   "id": "697678a3",
   "metadata": {},
   "outputs": [
    {
     "name": "stdout",
     "output_type": "stream",
     "text": [
      "('S', 'I', 'M', 'w', 'R')\n"
     ]
    }
   ],
   "source": [
    "#slice\n",
    "a = (\"S\", \"I\", \"M\", \"w\", \"R\", \"T\", \" y\")\n",
    "x = slice(5)\n",
    "print(a[x])"
   ]
  },
  {
   "cell_type": "code",
   "execution_count": 34,
   "id": "45fcf69a",
   "metadata": {},
   "outputs": [
    {
     "name": "stdout",
     "output_type": "stream",
     "text": [
      "hello my universe!\n"
     ]
    }
   ],
   "source": [
    "# user defined funnction\n",
    "def func1():\n",
    "    print(\"hello my universe!\")\n",
    "func1()"
   ]
  },
  {
   "cell_type": "code",
   "execution_count": 35,
   "id": "f6953415",
   "metadata": {},
   "outputs": [],
   "source": [
    "def hello():\n",
    "    name = str(input(\"Enter your country name:\"))\n",
    "    print(\"Hello \" + str(name))"
   ]
  },
  {
   "cell_type": "code",
   "execution_count": 36,
   "id": "77c40e65",
   "metadata": {},
   "outputs": [
    {
     "name": "stdout",
     "output_type": "stream",
     "text": [
      "Enter your country name:India\n",
      "Hello India\n"
     ]
    }
   ],
   "source": [
    "hello()"
   ]
  },
  {
   "cell_type": "code",
   "execution_count": 37,
   "id": "3b79345d",
   "metadata": {},
   "outputs": [],
   "source": [
    "def ft_to_cm(ft):\n",
    "    centimeter = ft*30.48\n",
    "    return centimeter"
   ]
  },
  {
   "cell_type": "code",
   "execution_count": 39,
   "id": "d629d8e8",
   "metadata": {},
   "outputs": [
    {
     "data": {
      "text/plain": [
       "182.88"
      ]
     },
     "execution_count": 39,
     "metadata": {},
     "output_type": "execute_result"
    }
   ],
   "source": [
    "ft_to_cm(6)"
   ]
  },
  {
   "cell_type": "code",
   "execution_count": 41,
   "id": "a9d363b8",
   "metadata": {},
   "outputs": [],
   "source": [
    "def add(x, y):\n",
    "    sum = x + y\n",
    "    print(sum)"
   ]
  },
  {
   "cell_type": "code",
   "execution_count": 43,
   "id": "fb0bb051",
   "metadata": {},
   "outputs": [
    {
     "name": "stdout",
     "output_type": "stream",
     "text": [
      "57\n"
     ]
    }
   ],
   "source": [
    "add(23, 34)"
   ]
  },
  {
   "cell_type": "code",
   "execution_count": 44,
   "id": "71d15b6a",
   "metadata": {},
   "outputs": [],
   "source": [
    "def multiply(x, y):\n",
    "    product = x*y\n",
    "    print(product)"
   ]
  },
  {
   "cell_type": "code",
   "execution_count": 45,
   "id": "bff931d4",
   "metadata": {},
   "outputs": [
    {
     "name": "stdout",
     "output_type": "stream",
     "text": [
      "1530\n"
     ]
    }
   ],
   "source": [
    "multiply(34, 45)"
   ]
  },
  {
   "cell_type": "code",
   "execution_count": 46,
   "id": "b9b5ca3f",
   "metadata": {},
   "outputs": [],
   "source": [
    "def absolute(x):\n",
    "    if x >= 0:\n",
    "        return x\n",
    "    else:\n",
    "        return -(-x)"
   ]
  },
  {
   "cell_type": "code",
   "execution_count": 47,
   "id": "3438930b",
   "metadata": {},
   "outputs": [
    {
     "data": {
      "text/plain": [
       "-98"
      ]
     },
     "execution_count": 47,
     "metadata": {},
     "output_type": "execute_result"
    }
   ],
   "source": [
    "absolute(-98)"
   ]
  },
  {
   "cell_type": "code",
   "execution_count": 48,
   "id": "640ae1c6",
   "metadata": {},
   "outputs": [],
   "source": [
    "def factorial(x):\n",
    "    if x==0:\n",
    "        return 1\n",
    "    else:\n",
    "        return x * factorial(x-1)"
   ]
  },
  {
   "cell_type": "code",
   "execution_count": 49,
   "id": "eaeaabba",
   "metadata": {},
   "outputs": [
    {
     "data": {
      "text/plain": [
       "9426890448883247745626185743057242473809693764078951663494238777294707070023223798882976159207729119823605850588608460429412647567360000000000000000000000"
      ]
     },
     "execution_count": 49,
     "metadata": {},
     "output_type": "execute_result"
    }
   ],
   "source": [
    "factorial(98)"
   ]
  },
  {
   "cell_type": "code",
   "execution_count": 50,
   "id": "1030325a",
   "metadata": {},
   "outputs": [],
   "source": [
    "def welcome(name = 'paul'):\n",
    "    print('hello', name)"
   ]
  },
  {
   "cell_type": "code",
   "execution_count": 51,
   "id": "de582f7f",
   "metadata": {},
   "outputs": [
    {
     "name": "stdout",
     "output_type": "stream",
     "text": [
      "hello paul\n"
     ]
    }
   ],
   "source": [
    "welcome()"
   ]
  },
  {
   "cell_type": "code",
   "execution_count": 53,
   "id": "1627afe4",
   "metadata": {},
   "outputs": [
    {
     "name": "stdout",
     "output_type": "stream",
     "text": [
      "hello jhon\n"
     ]
    }
   ],
   "source": [
    "welcome('jhon')"
   ]
  },
  {
   "cell_type": "code",
   "execution_count": 54,
   "id": "9d43e61b",
   "metadata": {},
   "outputs": [],
   "source": [
    "def factorial(x):\n",
    "    if x==0:\n",
    "        return 1;\n",
    "    else:\n",
    "        return x * factorial(x-1)\n",
    "    "
   ]
  },
  {
   "cell_type": "code",
   "execution_count": 55,
   "id": "c6af4183",
   "metadata": {},
   "outputs": [
    {
     "data": {
      "text/plain": [
       "5040"
      ]
     },
     "execution_count": 55,
     "metadata": {},
     "output_type": "execute_result"
    }
   ],
   "source": [
    "factorial(7)"
   ]
  },
  {
   "cell_type": "code",
   "execution_count": 59,
   "id": "7b23c8a4",
   "metadata": {},
   "outputs": [],
   "source": [
    "def messsage(name1, name2, name3):\n",
    "    print('hello', name1, ', please tell', name2, 'that', name3, 'is waiting')"
   ]
  },
  {
   "cell_type": "code",
   "execution_count": 64,
   "id": "e7e326cd",
   "metadata": {},
   "outputs": [
    {
     "name": "stdout",
     "output_type": "stream",
     "text": [
      "hello Devisriprasad , please tell Anirudh that Thaman is waiting\n"
     ]
    }
   ],
   "source": [
    "messsage('Devisriprasad', 'Anirudh', 'Thaman')"
   ]
  },
  {
   "cell_type": "code",
   "execution_count": 65,
   "id": "eb527db4",
   "metadata": {},
   "outputs": [
    {
     "name": "stdout",
     "output_type": "stream",
     "text": [
      "7\n"
     ]
    }
   ],
   "source": [
    "# scope\n",
    "ntdef func3():\n",
    "    z = 7\n",
    "    print(z)\n",
    "func3()"
   ]
  },
  {
   "cell_type": "code",
   "execution_count": 75,
   "id": "55e35024",
   "metadata": {},
   "outputs": [
    {
     "name": "stdout",
     "output_type": "stream",
     "text": [
      "7\n"
     ]
    }
   ],
   "source": [
    "z = 7\n",
    "def func3():\n",
    "    print(z)\n",
    "func3() "
   ]
  },
  {
   "cell_type": "code",
   "execution_count": 77,
   "id": "3c6b34c0",
   "metadata": {},
   "outputs": [
    {
     "name": "stdout",
     "output_type": "stream",
     "text": [
      "8\n"
     ]
    }
   ],
   "source": [
    "z = 7\n",
    "def fun4():\n",
    "    global z\n",
    "    z = z+1\n",
    "    print(z)\n",
    "fun4()"
   ]
  },
  {
   "cell_type": "code",
   "execution_count": 78,
   "id": "4de21965",
   "metadata": {},
   "outputs": [],
   "source": [
    "def welcome(*names):\n",
    "    print('hello', names[0], ', ', names[1], ', ', names[2])"
   ]
  },
  {
   "cell_type": "code",
   "execution_count": 79,
   "id": "4074d63d",
   "metadata": {},
   "outputs": [
    {
     "name": "stdout",
     "output_type": "stream",
     "text": [
      "hello steve ,  joesph ,  jailer\n"
     ]
    }
   ],
   "source": [
    "welcome('steve', 'joesph', 'jailer')"
   ]
  },
  {
   "cell_type": "code",
   "execution_count": 89,
   "id": "e7691171",
   "metadata": {},
   "outputs": [
    {
     "ename": "SyntaxError",
     "evalue": "invalid syntax. Perhaps you forgot a comma? (627796163.py, line 10)",
     "output_type": "error",
     "traceback": [
      "\u001b[1;36m  Cell \u001b[1;32mIn[89], line 10\u001b[1;36m\u001b[0m\n\u001b[1;33m    print('Sphere area with radius 10:' sphere area(10))\u001b[0m\n\u001b[1;37m          ^\u001b[0m\n\u001b[1;31mSyntaxError\u001b[0m\u001b[1;31m:\u001b[0m invalid syntax. Perhaps you forgot a comma?\n"
     ]
    }
   ],
   "source": [
    "pi = 3.14\n",
    "def circleArea(radius):\n",
    "    return pi*radius*radius\n",
    "def sphereArea(radius):\n",
    "    return 4*pi*radius*radius\n",
    "def main():\n",
    "    print('circle area with radius 15:', circleArea)"
   ]
  },
  {
   "cell_type": "code",
   "execution_count": null,
   "id": "5de6654f",
   "metadata": {},
   "outputs": [],
   "source": []
  }
 ],
 "metadata": {
  "kernelspec": {
   "display_name": "Python 3 (ipykernel)",
   "language": "python",
   "name": "python3"
  },
  "language_info": {
   "codemirror_mode": {
    "name": "ipython",
    "version": 3
   },
   "file_extension": ".py",
   "mimetype": "text/x-python",
   "name": "python",
   "nbconvert_exporter": "python",
   "pygments_lexer": "ipython3",
   "version": "3.11.4"
  }
 },
 "nbformat": 4,
 "nbformat_minor": 5
}
