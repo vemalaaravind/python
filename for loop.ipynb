{
 "cells": [
  {
   "cell_type": "code",
   "execution_count": 1,
   "id": "666b397b",
   "metadata": {},
   "outputs": [
    {
     "name": "stdout",
     "output_type": "stream",
     "text": [
      "s\n",
      "i\n",
      "m\n",
      "p\n",
      "l\n",
      "i\n",
      "l\n",
      "e\n",
      "a\n",
      "r\n",
      "n\n"
     ]
    }
   ],
   "source": [
    "s = 'simplilearn'\n",
    "for i in s:\n",
    "    print(i)"
   ]
  },
  {
   "cell_type": "code",
   "execution_count": 2,
   "id": "37e95dcf",
   "metadata": {},
   "outputs": [
    {
     "name": "stdout",
     "output_type": "stream",
     "text": [
      "s*i*m*p*l*i*l*e*a*r*n*"
     ]
    }
   ],
   "source": [
    "s = 'simplilearn'\n",
    "for i in s:\n",
    "    print(i, end=\"*\")"
   ]
  },
  {
   "cell_type": "code",
   "execution_count": 3,
   "id": "8fb27d34",
   "metadata": {},
   "outputs": [
    {
     "name": "stdout",
     "output_type": "stream",
     "text": [
      "java\n",
      "python\n",
      "r\n",
      "ruby\n"
     ]
    }
   ],
   "source": [
    "# use of for loops in a list\n",
    "programming = [\"java\",\"python\",\"r\",\"ruby\"]\n",
    "for iter in programming:\n",
    "    print(iter)"
   ]
  },
  {
   "cell_type": "code",
   "execution_count": 4,
   "id": "24e66b73",
   "metadata": {},
   "outputs": [
    {
     "name": "stdout",
     "output_type": "stream",
     "text": [
      "sum= 202\n",
      "Average= 40.4\n"
     ]
    }
   ],
   "source": [
    "#find the average of the list of numbers\n",
    "list_num = [20,3,45,56,78]\n",
    "sum = 0\n",
    "for i in list_num:\n",
    "    sum = sum + i\n",
    "print(\"sum=\", sum)\n",
    "print(\"Average=\", sum/len(list_num))"
   ]
  },
  {
   "cell_type": "code",
   "execution_count": 5,
   "id": "db926296",
   "metadata": {},
   "outputs": [
    {
     "name": "stdout",
     "output_type": "stream",
     "text": [
      "255\n"
     ]
    }
   ],
   "source": [
    "# for loop using a Tuple\n",
    "num = (30,45,60,50,70)\n",
    "sum = 0\n",
    "for i in num:\n",
    "    sum = sum + i\n",
    "print(sum)"
   ]
  },
  {
   "cell_type": "code",
   "execution_count": 6,
   "id": "df048914",
   "metadata": {},
   "outputs": [
    {
     "name": "stdout",
     "output_type": "stream",
     "text": [
      "1\n",
      "2\n",
      "3\n",
      "4\n",
      "5\n",
      "6\n",
      "7\n",
      "8\n",
      "9\n"
     ]
    }
   ],
   "source": [
    "# range function in python\n",
    "for i in range(1, 10):\n",
    "    print(i)"
   ]
  },
  {
   "cell_type": "code",
   "execution_count": 11,
   "id": "66a8c4ba",
   "metadata": {},
   "outputs": [
    {
     "name": "stdout",
     "output_type": "stream",
     "text": [
      "Display values with a step size of 2: 0\n",
      "Display values with a step size of 2: 2\n",
      "Display values with a step size of 2: 4\n",
      "Display values with a step size of 2: 6\n",
      "Display values with a step size of 2: 8\n"
     ]
    }
   ],
   "source": [
    "for i in range(0, 10, 2):\n",
    "    print(\"Display values with a step size of 2:\", i)"
   ]
  },
  {
   "cell_type": "code",
   "execution_count": 12,
   "id": "34b7f892",
   "metadata": {},
   "outputs": [
    {
     "name": "stdout",
     "output_type": "stream",
     "text": [
      "Enter the number 9\n",
      "9 * 1 = 9\n",
      "9 * 2 = 18\n",
      "9 * 3 = 27\n",
      "9 * 4 = 36\n",
      "9 * 5 = 45\n",
      "9 * 6 = 54\n",
      "9 * 7 = 63\n",
      "9 * 8 = 72\n",
      "9 * 9 = 81\n",
      "9 * 10 = 90\n"
     ]
    }
   ],
   "source": [
    "# program to print table of a given number\n",
    "n = int(input(\"Enter the number \"))\n",
    "for i in range(1,11):\n",
    "    mul = n*i\n",
    "    print(n,\"*\",i,\"=\",mul)"
   ]
  },
  {
   "cell_type": "code",
   "execution_count": 14,
   "id": "365150dc",
   "metadata": {},
   "outputs": [
    {
     "name": "stdout",
     "output_type": "stream",
     "text": [
      "Enter the number 7\n",
      "7\n",
      "14\n",
      "21\n",
      "28\n",
      "35\n",
      "42\n",
      "49\n",
      "56\n",
      "63\n",
      "70\n"
     ]
    }
   ],
   "source": [
    "# program to print table of a given number\n",
    "n = int(input(\"Enter the number \"))\n",
    "for i in range(1,11):\n",
    "    mul = n*i\n",
    "    print(mul)"
   ]
  },
  {
   "cell_type": "code",
   "execution_count": 16,
   "id": "507a11f0",
   "metadata": {},
   "outputs": [
    {
     "name": "stdout",
     "output_type": "stream",
     "text": [
      "Hello c++\n",
      "Hello java\n",
      "Hello r\n",
      "Hello HTML\n"
     ]
    }
   ],
   "source": [
    "list2 = ['c++', 'java', 'r', 'HTML']\n",
    "for i in range(len(list2)):\n",
    "    print(\"Hello\",list2[i])"
   ]
  },
  {
   "cell_type": "code",
   "execution_count": 19,
   "id": "bde80ccd",
   "metadata": {},
   "outputs": [
    {
     "name": "stdout",
     "output_type": "stream",
     "text": [
      "we will display each letter of mphasis\n",
      "m\n",
      "p\n",
      "h\n",
      "a\n",
      "s\n",
      "i\n",
      "s\n",
      "we will display each letter of google\n",
      "g\n",
      "o\n",
      "o\n",
      "g\n",
      "l\n",
      "e\n",
      "we will display each letter of amazon\n",
      "a\n",
      "m\n",
      "a\n",
      "z\n",
      "o\n",
      "n\n"
     ]
    }
   ],
   "source": [
    "#nested for loop\n",
    "compaines = ['mphasis','google','amazon']\n",
    "for i in compaines:\n",
    "    print(\"we will display each letter of \"+i)\n",
    "    for letter in i:\n",
    "        print(letter)"
   ]
  },
  {
   "cell_type": "code",
   "execution_count": 20,
   "id": "4e49610e",
   "metadata": {},
   "outputs": [
    {
     "name": "stdout",
     "output_type": "stream",
     "text": [
      "0\n",
      "3\n",
      "6\n",
      "9\n",
      "The loop has completed execution\n"
     ]
    }
   ],
   "source": [
    "# for loop with else clause\n",
    "for i in range(0,10,3):\n",
    "    print(i)\n",
    "else:\n",
    "    print(\"The loop has completed execution\")"
   ]
  },
  {
   "cell_type": "code",
   "execution_count": 22,
   "id": "7dfe36e9",
   "metadata": {},
   "outputs": [
    {
     "name": "stdout",
     "output_type": "stream",
     "text": [
      "0\n",
      "1\n",
      "2\n",
      "3\n",
      "4\n",
      "5\n",
      "6\n",
      "7\n"
     ]
    }
   ],
   "source": [
    "#for loop using break\n",
    "for i in range(0,11):\n",
    "    if (i==8):\n",
    "        break\n",
    "    print(i)"
   ]
  },
  {
   "cell_type": "code",
   "execution_count": 23,
   "id": "2811271d",
   "metadata": {},
   "outputs": [
    {
     "name": "stdout",
     "output_type": "stream",
     "text": [
      "0\n",
      "1\n",
      "2\n",
      "3\n",
      "4\n",
      "5\n",
      "7\n",
      "8\n",
      "9\n",
      "10\n"
     ]
    }
   ],
   "source": [
    "#continue using for\n",
    "for i in range (0,11):\n",
    "    if(i==6):\n",
    "        continue\n",
    "    print(i)"
   ]
  },
  {
   "cell_type": "code",
   "execution_count": 24,
   "id": "f2bc4329",
   "metadata": {},
   "outputs": [
    {
     "name": "stdout",
     "output_type": "stream",
     "text": [
      "No player with that name found.\n",
      "No player with that name found.\n",
      "7\n"
     ]
    }
   ],
   "source": [
    "# program to dispaly the total goals a player has scored\n",
    "player_name = \"Carmelo\"\n",
    "goals = {'edison' : 14,'Bernat': 3, 'Carmelo' : 7}\n",
    "for player in goals:\n",
    "    if player == player_name:\n",
    "        print(goals[player])\n",
    "        break\n",
    "    else:\n",
    "        print('No player with that name found.')"
   ]
  },
  {
   "cell_type": "code",
   "execution_count": 27,
   "id": "39c62ab9",
   "metadata": {},
   "outputs": [
    {
     "name": "stdout",
     "output_type": "stream",
     "text": [
      "[8, 125, 64, 27, 343, 512]\n"
     ]
    }
   ],
   "source": [
    "#cube of number\n",
    "num = [2,5,4,3,7,8]\n",
    "cube = []\n",
    "for i in num:\n",
    "    cube.append(i**3)\n",
    "print(cube)"
   ]
  },
  {
   "cell_type": "code",
   "execution_count": 26,
   "id": "522e7dbf",
   "metadata": {},
   "outputs": [
    {
     "name": "stdout",
     "output_type": "stream",
     "text": [
      "Enter the number of rows 6\n",
      "*\n",
      "**\n",
      "***\n",
      "****\n",
      "*****\n",
      "******\n"
     ]
    }
   ],
   "source": [
    "#pattern printing\n",
    "n = int(input(\"Enter the number of rows \"))\n",
    "for i in range(0,n):\n",
    "    for j in range(0,i+1):\n",
    "        print(\"*\",end=\"\")\n",
    "    print()"
   ]
  },
  {
   "cell_type": "code",
   "execution_count": null,
   "id": "7e766973",
   "metadata": {},
   "outputs": [],
   "source": []
  }
 ],
 "metadata": {
  "kernelspec": {
   "display_name": "Python 3 (ipykernel)",
   "language": "python",
   "name": "python3"
  },
  "language_info": {
   "codemirror_mode": {
    "name": "ipython",
    "version": 3
   },
   "file_extension": ".py",
   "mimetype": "text/x-python",
   "name": "python",
   "nbconvert_exporter": "python",
   "pygments_lexer": "ipython3",
   "version": "3.11.4"
  }
 },
 "nbformat": 4,
 "nbformat_minor": 5
}
